{
 "cells": [
  {
   "cell_type": "code",
   "execution_count": 32,
   "metadata": {},
   "outputs": [],
   "source": [
    "import numpy as np\n",
    "import pandas as pd"
   ]
  },
  {
   "cell_type": "code",
   "execution_count": 2,
   "metadata": {},
   "outputs": [],
   "source": [
    "bounds = np.array([\n",
    "        [5, 10],  # Longitude bounds\n",
    "        [0, 3],  # Latitude bounds\n",
    "    ])"
   ]
  },
  {
   "cell_type": "code",
   "execution_count": 3,
   "metadata": {},
   "outputs": [
    {
     "data": {
      "text/plain": [
       "np.int64(10)"
      ]
     },
     "execution_count": 3,
     "metadata": {},
     "output_type": "execute_result"
    }
   ],
   "source": [
    "bounds[0][1]"
   ]
  },
  {
   "cell_type": "code",
   "execution_count": 24,
   "metadata": {},
   "outputs": [],
   "source": [
    "data_file = r'../data/Map_village_20241227_data.csv'"
   ]
  },
  {
   "cell_type": "code",
   "execution_count": 33,
   "metadata": {},
   "outputs": [],
   "source": [
    "def read_data(file_path):\n",
    "    # Read the CSV file into a DataFrame\n",
    "    data = pd.read_csv(file_path)\n",
    "    households = data[data['Type'] == 'Household']\n",
    "    pumps = data[data['Type'] == 'Hand Pump']\n",
    "    return data, households, pumps"
   ]
  },
  {
   "cell_type": "code",
   "execution_count": 34,
   "metadata": {},
   "outputs": [],
   "source": [
    "data, households, pumps= read_data(data_file)"
   ]
  },
  {
   "cell_type": "code",
   "execution_count": 36,
   "metadata": {},
   "outputs": [
    {
     "name": "stdout",
     "output_type": "stream",
     "text": [
      "          Type        Lon        Lat  Altitude  Nb capita  Drink  Cook  \\\n",
      "191  Hand Pump -11.433498  10.980816       372        NaN    NaN   NaN   \n",
      "192  Hand Pump -11.444274  10.990651       350        NaN    NaN   NaN   \n",
      "193  Hand Pump -11.420954  11.001941       350        NaN    NaN   NaN   \n",
      "\n",
      "     Hygiene  Laundry  Usage  \n",
      "191      NaN      NaN    NaN  \n",
      "192      NaN      NaN    NaN  \n",
      "193      NaN      NaN    NaN  \n"
     ]
    }
   ],
   "source": [
    "print(pumps)"
   ]
  },
  {
   "cell_type": "code",
   "execution_count": null,
   "metadata": {},
   "outputs": [
    {
     "data": {
      "text/plain": [
       "[np.float64(-11.43402127185567), 10.97813035]"
      ]
     },
     "execution_count": 41,
     "metadata": {},
     "output_type": "execute_result"
    }
   ],
   "source": [
    "data['Lon'].mean(), data['Lat'].min()"
   ]
  },
  {
   "cell_type": "code",
   "execution_count": null,
   "metadata": {},
   "outputs": [],
   "source": []
  }
 ],
 "metadata": {
  "kernelspec": {
   "display_name": "ox",
   "language": "python",
   "name": "python3"
  },
  "language_info": {
   "codemirror_mode": {
    "name": "ipython",
    "version": 3
   },
   "file_extension": ".py",
   "mimetype": "text/x-python",
   "name": "python",
   "nbconvert_exporter": "python",
   "pygments_lexer": "ipython3",
   "version": "3.13.1"
  }
 },
 "nbformat": 4,
 "nbformat_minor": 2
}
