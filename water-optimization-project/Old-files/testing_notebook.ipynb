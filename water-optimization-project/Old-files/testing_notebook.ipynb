{
 "cells": [
  {
   "cell_type": "code",
   "execution_count": 3,
   "metadata": {},
   "outputs": [],
   "source": [
    "import numpy as np\n",
    "import pandas as pd"
   ]
  },
  {
   "cell_type": "code",
   "execution_count": 4,
   "metadata": {},
   "outputs": [],
   "source": [
    "bounds = np.array([\n",
    "        [5, 10],  # Longitude bounds\n",
    "        [0, 3],  # Latitude bounds\n",
    "    ])"
   ]
  },
  {
   "cell_type": "code",
   "execution_count": 6,
   "metadata": {},
   "outputs": [
    {
     "data": {
      "text/plain": [
       "np.int64(10)"
      ]
     },
     "execution_count": 6,
     "metadata": {},
     "output_type": "execute_result"
    }
   ],
   "source": [
    "bounds[0][1]"
   ]
  },
  {
   "cell_type": "code",
   "execution_count": 7,
   "metadata": {},
   "outputs": [],
   "source": [
    "data_file = r'../data/Map_village_20241227_data.csv'"
   ]
  },
  {
   "cell_type": "code",
   "execution_count": 8,
   "metadata": {},
   "outputs": [],
   "source": [
    "def read_data(file_path):\n",
    "    # Read the CSV file into a DataFrame\n",
    "    data = pd.read_csv(file_path)\n",
    "    households = data[data['Type'] == 'Household']\n",
    "    pumps = data[data['Type'] == 'Hand Pump']\n",
    "    return data, households, pumps"
   ]
  },
  {
   "cell_type": "code",
   "execution_count": 9,
   "metadata": {},
   "outputs": [],
   "source": [
    "data, households, pumps= read_data(data_file)"
   ]
  },
  {
   "cell_type": "code",
   "execution_count": 10,
   "metadata": {},
   "outputs": [
    {
     "name": "stdout",
     "output_type": "stream",
     "text": [
      "          Type        Lon        Lat  Altitude  Nb capita  Drink  Cook  \\\n",
      "191  Hand Pump -11.433498  10.980816       372        NaN    NaN   NaN   \n",
      "192  Hand Pump -11.444274  10.990651       350        NaN    NaN   NaN   \n",
      "193  Hand Pump -11.420954  11.001941       350        NaN    NaN   NaN   \n",
      "\n",
      "     Hygiene  Laundry  Usage  \n",
      "191      NaN      NaN    NaN  \n",
      "192      NaN      NaN    NaN  \n",
      "193      NaN      NaN    NaN  \n"
     ]
    }
   ],
   "source": [
    "print(pumps)"
   ]
  },
  {
   "cell_type": "code",
   "execution_count": 11,
   "metadata": {},
   "outputs": [
    {
     "name": "stdout",
     "output_type": "stream",
     "text": [
      "-11.43402127185567 10.991749958659796\n"
     ]
    }
   ],
   "source": [
    "print(data['Lon'].mean(), data['Lat'].mean())"
   ]
  },
  {
   "cell_type": "code",
   "execution_count": 12,
   "metadata": {},
   "outputs": [
    {
     "name": "stdout",
     "output_type": "stream",
     "text": [
      "[ 6. 10.  7.  6.  5.  5.  4.  8.  7.  7.  3. 10.  8.  5.  5.  5.  5.  6.\n",
      "  6.  5.  7.  4.  5.  6.  6.  7.  5.  6.  6.  3.  7.  5.  4.  9. 10.  8.\n",
      "  5.  4.  7.  6.  4.  6.  3.  9.  5.  7.  5.  6.  6.  5. 10.  7.  9.  8.\n",
      "  6.  9.  4.  5.  3.  5.  6.  5.  8.  6.  5.  6.  4.  8.  4. 10.  7.  5.\n",
      "  3.  8.  7.  7.  7.  4.  6.  4.  8.  7.  5.  4.  5.  5.  7.  7.  8.  6.\n",
      "  4.  7.  7.  6.  7.  6.  6.  6.  3.  4.  3.  7.  5.  6.  9.  5.  6.  7.\n",
      "  5.  4.  5.  5.  9.  8.  7.  8.  8.  5.  8.  6.  8.  8.  5.  4.  5.  6.\n",
      "  8.  8.  3.  6.  6.  5.  4.  5.  9.  5.  6.  7.  6. 10. 10.  5.  6.  5.\n",
      "  5.  3.  7.  6.  4.  5.  9.  5.  4.  6. 10.  5.  7.  7.  5.  7.  6.  7.\n",
      "  7.  6.  4.  8.  5.  5.  3.  6.]\n"
     ]
    }
   ],
   "source": [
    "nb_capita = households['Nb capita'].to_numpy()\n",
    "print(nb_capita)"
   ]
  },
  {
   "cell_type": "code",
   "execution_count": 13,
   "metadata": {},
   "outputs": [],
   "source": [
    "pos_households = households[['Lon','Lat']].to_numpy() # For f1 (sum of weighted distances)\n",
    "nb_capita = households['Nb capita'].to_numpy() # Define weight factors for each distance in pos_households\n",
    "pos_pumps = pumps[['Lon','Lat']].to_numpy() # For f2 (min distance)"
   ]
  },
  {
   "cell_type": "code",
   "execution_count": 14,
   "metadata": {},
   "outputs": [],
   "source": [
    "import geopy.distance as geo"
   ]
  },
  {
   "cell_type": "code",
   "execution_count": null,
   "metadata": {},
   "outputs": [
    {
     "ename": "",
     "evalue": "",
     "output_type": "error",
     "traceback": [
      "\u001b[1;31mnotebook controller is DISPOSED. \n",
      "\u001b[1;31mView Jupyter <a href='command:jupyter.viewOutput'>log</a> for further details."
     ]
    },
    {
     "ename": "",
     "evalue": "",
     "output_type": "error",
     "traceback": [
      "\u001b[1;31mnotebook controller is DISPOSED. \n",
      "\u001b[1;31mView Jupyter <a href='command:jupyter.viewOutput'>log</a> for further details."
     ]
    },
    {
     "ename": "",
     "evalue": "",
     "output_type": "error",
     "traceback": [
      "\u001b[1;31mnotebook controller is DISPOSED. \n",
      "\u001b[1;31mView Jupyter <a href='command:jupyter.viewOutput'>log</a> for further details."
     ]
    }
   ],
   "source": [
    "def impact(pump_positions, x = None):\n",
    "    pump_positions_copy = pump_positions.copy()\n",
    "    if x == None:\n",
    "        pass\n",
    "    else:\n",
    "        pump_positions_copy = np.concatenate((pump_positions_copy,np.array([x])),axis = 0)\n",
    "    min_pump_distance = np.zeros(len(households))\n",
    "    for index,household in households.iterrows():\n",
    "        dist = np.zeros(len(pump_positions_copy))\n",
    "        for i,pump_pos in enumerate(pump_positions_copy):\n",
    "            dist[i] = geo.great_circle(pump_pos, pos_households[index]).meters\n",
    "        min_pump_distance[index] = np.min(dist)\n",
    "\n",
    "    impact = np.sum(nb_capita * (min_pump_distance))\n",
    "    return impact, min_pump_distance"
   ]
  },
  {
   "cell_type": "code",
   "execution_count": 15,
   "metadata": {},
   "outputs": [
    {
     "data": {
      "text/plain": [
       "array([[-11.43349811,  10.98081621],\n",
       "       [-11.44427405,  10.99065103],\n",
       "       [-11.42095355,  11.00194111],\n",
       "       [-11.44      ,  11.        ]])"
      ]
     },
     "execution_count": 15,
     "metadata": {},
     "output_type": "execute_result"
    }
   ],
   "source": [
    "y = np.array([[-11.44,11]])\n",
    "np.concatenate((pos_pumps,y), axis = 0)"
   ]
  },
  {
   "cell_type": "code",
   "execution_count": 16,
   "metadata": {},
   "outputs": [
    {
     "name": "stdout",
     "output_type": "stream",
     "text": [
      "<class 'numpy.ndarray'>\n",
      "False\n"
     ]
    }
   ],
   "source": [
    "h = np.array([1,1])\n",
    "print(type(h))\n",
    "print(type(h) == 'NoneType')"
   ]
  },
  {
   "cell_type": "code",
   "execution_count": 17,
   "metadata": {},
   "outputs": [
    {
     "ename": "NameError",
     "evalue": "name 'impact' is not defined",
     "output_type": "error",
     "traceback": [
      "\u001b[1;31m---------------------------------------------------------------------------\u001b[0m",
      "\u001b[1;31mNameError\u001b[0m                                 Traceback (most recent call last)",
      "Cell \u001b[1;32mIn[17], line 1\u001b[0m\n\u001b[1;32m----> 1\u001b[0m impact_added, min_dist_added \u001b[38;5;241m=\u001b[39m impact(pos_pumps,[\u001b[38;5;241m-\u001b[39m\u001b[38;5;241m11.44\u001b[39m,\u001b[38;5;241m11.00\u001b[39m])\n\u001b[0;32m      2\u001b[0m impact_init, min_dist_init \u001b[38;5;241m=\u001b[39m impact(pos_pumps)\n",
      "\u001b[1;31mNameError\u001b[0m: name 'impact' is not defined"
     ]
    }
   ],
   "source": [
    "impact_added, min_dist_added = impact(pos_pumps,[-11.44,11.00])\n",
    "impact_init, min_dist_init = impact(pos_pumps)\n"
   ]
  },
  {
   "cell_type": "code",
   "execution_count": null,
   "metadata": {},
   "outputs": [
    {
     "name": "stdout",
     "output_type": "stream",
     "text": [
      "378484.27633823245 368029.0347251879\n"
     ]
    },
    {
     "ename": "",
     "evalue": "",
     "output_type": "error",
     "traceback": [
      "\u001b[1;31mnotebook controller is DISPOSED. \n",
      "\u001b[1;31mView Jupyter <a href='command:jupyter.viewOutput'>log</a> for further details."
     ]
    },
    {
     "ename": "",
     "evalue": "",
     "output_type": "error",
     "traceback": [
      "\u001b[1;31mnotebook controller is DISPOSED. \n",
      "\u001b[1;31mView Jupyter <a href='command:jupyter.viewOutput'>log</a> for further details."
     ]
    },
    {
     "ename": "",
     "evalue": "",
     "output_type": "error",
     "traceback": [
      "\u001b[1;31mnotebook controller is DISPOSED. \n",
      "\u001b[1;31mView Jupyter <a href='command:jupyter.viewOutput'>log</a> for further details."
     ]
    }
   ],
   "source": [
    "print(impact_init,impact_added)"
   ]
  },
  {
   "cell_type": "code",
   "execution_count": null,
   "metadata": {},
   "outputs": [
    {
     "ename": "",
     "evalue": "",
     "output_type": "error",
     "traceback": [
      "\u001b[1;31mnotebook controller is DISPOSED. \n",
      "\u001b[1;31mView Jupyter <a href='command:jupyter.viewOutput'>log</a> for further details."
     ]
    },
    {
     "ename": "",
     "evalue": "",
     "output_type": "error",
     "traceback": [
      "\u001b[1;31mnotebook controller is DISPOSED. \n",
      "\u001b[1;31mView Jupyter <a href='command:jupyter.viewOutput'>log</a> for further details."
     ]
    },
    {
     "ename": "",
     "evalue": "",
     "output_type": "error",
     "traceback": [
      "\u001b[1;31mnotebook controller is DISPOSED. \n",
      "\u001b[1;31mView Jupyter <a href='command:jupyter.viewOutput'>log</a> for further details."
     ]
    }
   ],
   "source": [
    "data_dist = np.column_stack((min_dist_init,min_dist_added))"
   ]
  },
  {
   "cell_type": "code",
   "execution_count": 18,
   "metadata": {},
   "outputs": [
    {
     "ename": "NameError",
     "evalue": "name 'min_dist_init' is not defined",
     "output_type": "error",
     "traceback": [
      "\u001b[1;31m---------------------------------------------------------------------------\u001b[0m",
      "\u001b[1;31mNameError\u001b[0m                                 Traceback (most recent call last)",
      "Cell \u001b[1;32mIn[18], line 1\u001b[0m\n\u001b[1;32m----> 1\u001b[0m data_dist \u001b[38;5;241m=\u001b[39m np\u001b[38;5;241m.\u001b[39mcolumn_stack((min_dist_init,min_dist_added))\n\u001b[0;32m      2\u001b[0m df \u001b[38;5;241m=\u001b[39m pd\u001b[38;5;241m.\u001b[39mDataFrame(data_dist,columns\u001b[38;5;241m=\u001b[39m[\u001b[38;5;124m'\u001b[39m\u001b[38;5;124minit\u001b[39m\u001b[38;5;124m'\u001b[39m,\u001b[38;5;124m'\u001b[39m\u001b[38;5;124madded\u001b[39m\u001b[38;5;124m'\u001b[39m])\n",
      "\u001b[1;31mNameError\u001b[0m: name 'min_dist_init' is not defined"
     ]
    }
   ],
   "source": [
    "data_dist = np.column_stack((min_dist_init,min_dist_added))\n",
    "df = pd.DataFrame(data_dist,columns=['init','added'])"
   ]
  },
  {
   "cell_type": "code",
   "execution_count": 19,
   "metadata": {},
   "outputs": [
    {
     "ename": "NameError",
     "evalue": "name 'df' is not defined",
     "output_type": "error",
     "traceback": [
      "\u001b[1;31m---------------------------------------------------------------------------\u001b[0m",
      "\u001b[1;31mNameError\u001b[0m                                 Traceback (most recent call last)",
      "Cell \u001b[1;32mIn[19], line 2\u001b[0m\n\u001b[0;32m      1\u001b[0m counter \u001b[38;5;241m=\u001b[39m \u001b[38;5;241m0\u001b[39m\n\u001b[1;32m----> 2\u001b[0m \u001b[38;5;28;01mfor\u001b[39;00m i,dist \u001b[38;5;129;01min\u001b[39;00m df\u001b[38;5;241m.\u001b[39miterrows():\n\u001b[0;32m      3\u001b[0m     \u001b[38;5;28;01mif\u001b[39;00m dist\u001b[38;5;241m.\u001b[39miloc[\u001b[38;5;241m0\u001b[39m] \u001b[38;5;241m==\u001b[39m dist\u001b[38;5;241m.\u001b[39miloc[\u001b[38;5;241m1\u001b[39m]:\n\u001b[0;32m      4\u001b[0m         counter \u001b[38;5;241m+\u001b[39m\u001b[38;5;241m=\u001b[39m\u001b[38;5;241m1\u001b[39m\n",
      "\u001b[1;31mNameError\u001b[0m: name 'df' is not defined"
     ]
    }
   ],
   "source": [
    "counter = 0\n",
    "for i,dist in df.iterrows():\n",
    "    if dist.iloc[0] == dist.iloc[1]:\n",
    "        counter +=1\n",
    "    else:\n",
    "        pass\n",
    "print(counter)"
   ]
  },
  {
   "cell_type": "code",
   "execution_count": 20,
   "metadata": {},
   "outputs": [
    {
     "ename": "NameError",
     "evalue": "name 'df' is not defined",
     "output_type": "error",
     "traceback": [
      "\u001b[1;31m---------------------------------------------------------------------------\u001b[0m",
      "\u001b[1;31mNameError\u001b[0m                                 Traceback (most recent call last)",
      "Cell \u001b[1;32mIn[20], line 1\u001b[0m\n\u001b[1;32m----> 1\u001b[0m df\n",
      "\u001b[1;31mNameError\u001b[0m: name 'df' is not defined"
     ]
    }
   ],
   "source": [
    "df"
   ]
  },
  {
   "cell_type": "code",
   "execution_count": 21,
   "metadata": {},
   "outputs": [],
   "source": [
    "import matplotlib.pyplot as plt"
   ]
  },
  {
   "cell_type": "code",
   "execution_count": 22,
   "metadata": {},
   "outputs": [],
   "source": [
    "def impact(pump_positions, x = None):\n",
    "    pump_positions_copy = pump_positions.copy()\n",
    "    if isinstance(x, np.ndarray):\n",
    "        pump_positions_copy = np.concatenate((pump_positions_copy,np.array([x])),axis = 0)\n",
    "    min_pump_distance = np.zeros(len(households))\n",
    "    for index,household in households.iterrows():\n",
    "        dist = np.zeros(len(pump_positions_copy))\n",
    "        for i,pump_pos in enumerate(pump_positions_copy):\n",
    "            dist[i] = geo.great_circle(pump_pos, pos_households[index]).meters\n",
    "        min_pump_distance[index] = np.min(dist)\n",
    "\n",
    "    impact = np.sum(nb_capita * (min_pump_distance))\n",
    "    return -1*impact, min_pump_distance"
   ]
  },
  {
   "cell_type": "code",
   "execution_count": 23,
   "metadata": {},
   "outputs": [],
   "source": [
    "new_pump= np.array([-11.43184669,  10.98180143])\n",
    "impact_new,dist_new = impact(pos_pumps,new_pump)"
   ]
  },
  {
   "cell_type": "code",
   "execution_count": 24,
   "metadata": {},
   "outputs": [
    {
     "name": "stdout",
     "output_type": "stream",
     "text": [
      "-532447.8464667689\n"
     ]
    }
   ],
   "source": [
    "print(impact_new)"
   ]
  },
  {
   "cell_type": "code",
   "execution_count": 25,
   "metadata": {},
   "outputs": [
    {
     "name": "stdout",
     "output_type": "stream",
     "text": [
      "[-11.43184669  10.98180143] [-11.43349811  10.98081621]\n"
     ]
    }
   ],
   "source": [
    "print(new_pump,pos_pumps[-3])"
   ]
  },
  {
   "cell_type": "code",
   "execution_count": 26,
   "metadata": {},
   "outputs": [
    {
     "ename": "NameError",
     "evalue": "name 'min_dist_init' is not defined",
     "output_type": "error",
     "traceback": [
      "\u001b[1;31m---------------------------------------------------------------------------\u001b[0m",
      "\u001b[1;31mNameError\u001b[0m                                 Traceback (most recent call last)",
      "Cell \u001b[1;32mIn[26], line 1\u001b[0m\n\u001b[1;32m----> 1\u001b[0m data_dist \u001b[38;5;241m=\u001b[39m np\u001b[38;5;241m.\u001b[39mcolumn_stack((min_dist_init,dist_new))\n\u001b[0;32m      2\u001b[0m df \u001b[38;5;241m=\u001b[39m pd\u001b[38;5;241m.\u001b[39mDataFrame(data_dist,columns\u001b[38;5;241m=\u001b[39m[\u001b[38;5;124m'\u001b[39m\u001b[38;5;124minit\u001b[39m\u001b[38;5;124m'\u001b[39m,\u001b[38;5;124m'\u001b[39m\u001b[38;5;124madded\u001b[39m\u001b[38;5;124m'\u001b[39m])\n",
      "\u001b[1;31mNameError\u001b[0m: name 'min_dist_init' is not defined"
     ]
    }
   ],
   "source": [
    "data_dist = np.column_stack((min_dist_init,dist_new))\n",
    "df = pd.DataFrame(data_dist,columns=['init','added'])"
   ]
  },
  {
   "cell_type": "code",
   "execution_count": 27,
   "metadata": {},
   "outputs": [
    {
     "ename": "NameError",
     "evalue": "name 'df' is not defined",
     "output_type": "error",
     "traceback": [
      "\u001b[1;31m---------------------------------------------------------------------------\u001b[0m",
      "\u001b[1;31mNameError\u001b[0m                                 Traceback (most recent call last)",
      "Cell \u001b[1;32mIn[27], line 3\u001b[0m\n\u001b[0;32m      1\u001b[0m counter \u001b[38;5;241m=\u001b[39m \u001b[38;5;241m0\u001b[39m\n\u001b[0;32m      2\u001b[0m err \u001b[38;5;241m=\u001b[39m \u001b[38;5;241m5\u001b[39m\n\u001b[1;32m----> 3\u001b[0m \u001b[38;5;28;01mfor\u001b[39;00m i,dist \u001b[38;5;129;01min\u001b[39;00m df\u001b[38;5;241m.\u001b[39miterrows():\n\u001b[0;32m      4\u001b[0m     \u001b[38;5;28;01mif\u001b[39;00m dist\u001b[38;5;241m.\u001b[39miloc[\u001b[38;5;241m0\u001b[39m] \u001b[38;5;241m<\u001b[39m\u001b[38;5;241m=\u001b[39m dist\u001b[38;5;241m.\u001b[39miloc[\u001b[38;5;241m1\u001b[39m]\u001b[38;5;241m+\u001b[39merr \u001b[38;5;129;01mand\u001b[39;00m dist\u001b[38;5;241m.\u001b[39miloc[\u001b[38;5;241m0\u001b[39m] \u001b[38;5;241m>\u001b[39m\u001b[38;5;241m=\u001b[39m dist\u001b[38;5;241m.\u001b[39miloc[\u001b[38;5;241m1\u001b[39m]\u001b[38;5;241m-\u001b[39merr:\n\u001b[0;32m      5\u001b[0m         counter \u001b[38;5;241m+\u001b[39m\u001b[38;5;241m=\u001b[39m\u001b[38;5;241m1\u001b[39m\n",
      "\u001b[1;31mNameError\u001b[0m: name 'df' is not defined"
     ]
    }
   ],
   "source": [
    "counter = 0\n",
    "err = 5\n",
    "for i,dist in df.iterrows():\n",
    "    if dist.iloc[0] <= dist.iloc[1]+err and dist.iloc[0] >= dist.iloc[1]-err:\n",
    "        counter +=1\n",
    "    else:\n",
    "        pass\n",
    "print(counter,len(df))"
   ]
  },
  {
   "cell_type": "code",
   "execution_count": 28,
   "metadata": {},
   "outputs": [
    {
     "name": "stdout",
     "output_type": "stream",
     "text": [
      "-532447.8464667689\n"
     ]
    }
   ],
   "source": [
    "print(impact_new)"
   ]
  },
  {
   "cell_type": "code",
   "execution_count": 29,
   "metadata": {},
   "outputs": [],
   "source": [
    "y = np.array([[-11.4378666,  10.99908537]])\n",
    "pos_pumps = np.concatenate((pos_pumps,y), axis = 0)"
   ]
  },
  {
   "cell_type": "code",
   "execution_count": 30,
   "metadata": {},
   "outputs": [
    {
     "data": {
      "image/png": "[encoded data removed]",
      "text/plain": [
       "<Figure size 640x480 with 1 Axes>"
      ]
     },
     "metadata": {},
     "output_type": "display_data"
    }
   ],
   "source": [
    "plt.scatter(households['Lon'].to_numpy(), households['Lat'].to_numpy(), c='blue', label='Household')\n",
    "plt.scatter(pos_pumps[:,0],pos_pumps[:,1],c='red',label='pump')\n",
    "\n",
    "plt.show()"
   ]
  },
  {
   "cell_type": "code",
   "execution_count": 31,
   "metadata": {},
   "outputs": [],
   "source": [
    "def impact(pump_positions, household_positions, household_capita, max_dist, x = None):\n",
    "    pump_positions_copy = pump_positions.copy()\n",
    "    if isinstance(x, np.ndarray):\n",
    "        pump_positions_copy = np.concatenate((pump_positions_copy,np.array([x])),axis = 0)\n",
    "    within_max_distance = np.zeros(len(household_positions))\n",
    "    for index,pos_houseshold in enumerate(household_positions):\n",
    "        dist = np.zeros(len(pump_positions_copy))\n",
    "        for i,pump_pos in enumerate(pump_positions_copy):\n",
    "            dist[i] = geo.great_circle(pump_pos, household_positions[index]).meters\n",
    "        if np.min(dist) <= max_dist:\n",
    "            within_max_distance[index] = 1\n",
    "        else:\n",
    "            within_max_distance[index] = 0\n",
    "\n",
    "    impact = np.sum(household_capita * (within_max_distance))\n",
    "    return -1*impact"
   ]
  },
  {
   "cell_type": "code",
   "execution_count": null,
   "metadata": {},
   "outputs": [
    {
     "name": "stdout",
     "output_type": "stream",
     "text": [
      "-759.0\n"
     ]
    }
   ],
   "source": [
    "max_distance = 500\n",
    "initial_impact = impact(pos_pumps,pos_households,nb_capita,max_distance)\n",
    "change_impact = impact(pos_pumps,pos_households,nb_capita,max_distance,[-11.4378666,  10.99908537])\n",
    "print(initial_impact,change_impact)"
   ]
  },
  {
   "cell_type": "code",
   "execution_count": null,
   "metadata": {},
   "outputs": [],
   "source": []
  }
 ],
 "metadata": {
  "kernelspec": {
   "display_name": "ox",
   "language": "python",
   "name": "python3"
  },
  "language_info": {
   "codemirror_mode": {
    "name": "ipython",
    "version": 3
   },
   "file_extension": ".py",
   "mimetype": "text/x-python",
   "name": "python",
   "nbconvert_exporter": "python",
   "pygments_lexer": "ipython3",
   "version": "3.13.1"
  }
 },
 "nbformat": 4,
 "nbformat_minor": 2
}
